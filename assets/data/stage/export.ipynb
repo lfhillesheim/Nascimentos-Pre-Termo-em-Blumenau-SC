{
 "cells": [
  {
   "cell_type": "markdown",
   "metadata": {},
   "source": []
  },
  {
   "cell_type": "code",
   "execution_count": 1,
   "metadata": {},
   "outputs": [],
   "source": [
    "import pandas as pd"
   ]
  },
  {
   "cell_type": "code",
   "execution_count": 2,
   "metadata": {},
   "outputs": [],
   "source": [
    "#df_excel = pd.read_excel('stage_prontuario_prematuros.xlsx')"
   ]
  },
  {
   "cell_type": "code",
   "execution_count": 3,
   "metadata": {},
   "outputs": [],
   "source": [
    "#df_excel.to_csv('stage_prontuario_prematuros.csv', index=False)"
   ]
  },
  {
   "cell_type": "code",
   "execution_count": 13,
   "metadata": {},
   "outputs": [
    {
     "name": "stdout",
     "output_type": "stream",
     "text": [
      "Arquivo salvo como stage_prontuario_prematuros_ajustado.csv\n"
     ]
    }
   ],
   "source": [
    "def ajustar_colunas_csv(input_file, output_file):\n",
    "    # Ler o arquivo CSV\n",
    "    df = pd.read_csv(input_file)\n",
    "\n",
    "    # Lista de colunas que precisam ser ajustadas\n",
    "    colunas_ajustar = [\n",
    "        'GESTA', 'CESAREA', 'PARTO_VAGINAL', 'ABORTO',\n",
    "        'INICIO_PRE_NATAL', 'CONSULTAS_PRE_NATAIS',\n",
    "        'NUMERO_DO_NASCIDO', 'APGAR_1_MIN', 'APGAR_5_MIN'\n",
    "    ]\n",
    "\n",
    "    # Dividir os valores das colunas por 10, lidando com valores ausentes\n",
    "    for coluna in colunas_ajustar:\n",
    "        if coluna in df.columns:\n",
    "            df[coluna] = df[coluna].apply(lambda x: x / 10 if pd.notnull(x) else x)\n",
    "\n",
    "    # Regravar o arquivo CSV com as alterações\n",
    "    df.to_csv(output_file, index=False)\n",
    "    print(f\"Arquivo salvo como {output_file}\")\n",
    "\n",
    "# Uso da função\n",
    "input_file = 'stage_prontuario_prematuros.csv'\n",
    "output_file = 'stage_prontuario_prematuros_ajustado.csv'\n",
    "ajustar_colunas_csv(input_file, output_file)"
   ]
  },
  {
   "cell_type": "code",
   "execution_count": 14,
   "metadata": {},
   "outputs": [
    {
     "name": "stdout",
     "output_type": "stream",
     "text": [
      "Arquivo salvo como stage_prontuario_prematuros_ajustado.csv\n"
     ]
    }
   ],
   "source": [
    "def ajustar_ig_semana_fracionada(input_file, output_file):\n",
    "    # Ler o arquivo CSV\n",
    "    df = pd.read_csv(input_file)\n",
    "\n",
    "    # Verificar se a coluna existe no DataFrame\n",
    "    if 'IG_SEMANA_FRACIONADA' in df.columns:\n",
    "        # Ajustar os valores da coluna para ter a vírgula na segunda casa decimal\n",
    "        df['IG_SEMANA_FRACIONADA'] = df['IG_SEMANA_FRACIONADA'].apply(\n",
    "            lambda x: formatar_semana_fracionada(x) if pd.notnull(x) else x\n",
    "        )\n",
    "\n",
    "    # Regravar o arquivo CSV com as alterações\n",
    "    df.to_csv(output_file, index=False)\n",
    "    print(f\"Arquivo salvo como {output_file}\")\n",
    "\n",
    "def formatar_semana_fracionada(valor):\n",
    "    \"\"\"Formata o valor para ter dois dígitos antes do ponto decimal e converte para float.\"\"\"\n",
    "    str_valor = str(valor)\n",
    "    parte_inteira = str_valor[:2]\n",
    "    parte_decimal = str_valor[2:]\n",
    "    return float(f\"{parte_inteira}.{parte_decimal}\")\n",
    "\n",
    "# Uso da função\n",
    "input_file = 'stage_prontuario_prematuros_ajustado.csv'\n",
    "output_file = 'stage_prontuario_prematuros_ajustado.csv'\n",
    "ajustar_ig_semana_fracionada(input_file, output_file)"
   ]
  },
  {
   "cell_type": "code",
   "execution_count": null,
   "metadata": {},
   "outputs": [],
   "source": []
  }
 ],
 "metadata": {
  "kernelspec": {
   "display_name": "venv",
   "language": "python",
   "name": "python3"
  },
  "language_info": {
   "codemirror_mode": {
    "name": "ipython",
    "version": 3
   },
   "file_extension": ".py",
   "mimetype": "text/x-python",
   "name": "python",
   "nbconvert_exporter": "python",
   "pygments_lexer": "ipython3",
   "version": "3.12.8"
  }
 },
 "nbformat": 4,
 "nbformat_minor": 2
}
