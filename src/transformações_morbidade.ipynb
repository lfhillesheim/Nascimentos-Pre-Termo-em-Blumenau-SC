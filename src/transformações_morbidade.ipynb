{
 "cells": [
  {
   "cell_type": "code",
   "execution_count": 42,
   "metadata": {},
   "outputs": [],
   "source": [
    "import pandas as pd"
   ]
  },
  {
   "cell_type": "code",
   "execution_count": 43,
   "metadata": {},
   "outputs": [],
   "source": [
    "df = pd.read_csv('../assets/data/stage/stage_prontuario_prematuros_bkp.csv')"
   ]
  },
  {
   "cell_type": "code",
   "execution_count": 44,
   "metadata": {},
   "outputs": [],
   "source": [
    "def substituir_dheg_pe(morbidade):\n",
    "    if isinstance(morbidade, str):\n",
    "        valor_original = morbidade\n",
    "        morbidades = morbidade.split(', ')\n",
    "\n",
    "\n",
    "        if \"DHEG\" in morbidades and \"PE\" in morbidades:\n",
    "            morbidades = [m for m in morbidades if m not in [\"DHEG\", \"PE\"]]\n",
    "            morbidades.append(\"PE\")\n",
    "\n",
    "        # Corrige a lógica: remover apenas se ambos existirem\n",
    "        elif \"HAS PREVIA\" in morbidades and \"PE\" in morbidades:\n",
    "            morbidades = [m for m in morbidades if m not in [\"HAS PREVIA\", \"PE\"]]\n",
    "            morbidades.append(\"HAS CRONICA + DHEG SOBREPOSTA\")\n",
    "\n",
    "        elif \"DHEG\" in morbidades:\n",
    "            morbidades = [\"HIPERTENSAO SEM PROTEINURIA\" if m == \"DHEG\" else m for m in morbidades]\n",
    "        \n",
    "        elif \"HAS PREVIA\" in morbidades:\n",
    "            morbidades = [\"HIPERTENSAO SEM PROTEINURIA\" if m == \"HAS PREVIA\" else m for m in morbidades]\n",
    "\n",
    "\n",
    "        valor_modificado = ', '.join(morbidades)\n",
    "        return valor_modificado, valor_modificado != valor_original\n",
    "    else:\n",
    "        return morbidade, False\n",
    "\n",
    "# Aplica a função à coluna 'MORBIDADE'\n",
    "df[['MORBIDADE_MODIFICADA', 'ALTERADO']] = df['MORBIDADE'].apply(substituir_dheg_pe).apply(pd.Series)\n"
   ]
  },
  {
   "cell_type": "code",
   "execution_count": 45,
   "metadata": {},
   "outputs": [],
   "source": [
    "cols = [col for col in df.columns if col not in ['MORBIDADE', 'MORBIDADE_MODIFICADA']] + ['MORBIDADE', 'MORBIDADE_MODIFICADA']\n",
    "df = df[cols]\n",
    "\n",
    "# Ordenar o DataFrame pela coluna 'ALTERADO' (True primeiro)\n",
    "df_sorted = df.sort_values(by='ALTERADO', ascending=False)\n"
   ]
  },
  {
   "cell_type": "code",
   "execution_count": 46,
   "metadata": {},
   "outputs": [],
   "source": [
    "df_sorted_drop_morbidade = df_sorted.drop(columns=['MORBIDADE', 'ALTERADO'])\n",
    "df_sorted_drop_morbidade_renomeado = df_sorted_drop_morbidade.rename(columns={'MORBIDADE_MODIFICADA': 'MORBIDADE'})"
   ]
  },
  {
   "cell_type": "code",
   "execution_count": 47,
   "metadata": {},
   "outputs": [],
   "source": [
    "df_sorted_drop_morbidade_renomeado.to_csv('../assets/data/stage/stage_prontuario_prematuros.csv', index=False)"
   ]
  }
 ],
 "metadata": {
  "kernelspec": {
   "display_name": "venv",
   "language": "python",
   "name": "python3"
  },
  "language_info": {
   "codemirror_mode": {
    "name": "ipython",
    "version": 3
   },
   "file_extension": ".py",
   "mimetype": "text/x-python",
   "name": "python",
   "nbconvert_exporter": "python",
   "pygments_lexer": "ipython3",
   "version": "3.12.8"
  }
 },
 "nbformat": 4,
 "nbformat_minor": 2
}
